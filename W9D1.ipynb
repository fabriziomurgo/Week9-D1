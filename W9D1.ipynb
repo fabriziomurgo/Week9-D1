{
 "cells": [
  {
   "cell_type": "code",
   "execution_count": 1,
   "id": "1518f465-412b-4ac0-b34a-f8d41aba2567",
   "metadata": {},
   "outputs": [
    {
     "name": "stdout",
     "output_type": "stream",
     "text": [
      "25\n"
     ]
    }
   ],
   "source": [
    "#Abbiamo 25 studenti; memorizzare questo dato in una variabile e stamparla a video.\n",
    "studenti = 25\n",
    "print(studenti)"
   ]
  },
  {
   "cell_type": "code",
   "execution_count": 3,
   "id": "8e1a2068-1ebe-44cc-843c-a5ef09a78c30",
   "metadata": {},
   "outputs": [
    {
     "name": "stdout",
     "output_type": "stream",
     "text": [
      "28\n"
     ]
    }
   ],
   "source": [
    "studenti_nuovi = studenti + 3\n",
    "print(studenti_nuovi)"
   ]
  },
  {
   "cell_type": "code",
   "execution_count": null,
   "id": "c23c93ea-1a27-4f4c-a1e5-d4df91afb12d",
   "metadata": {},
   "outputs": [],
   "source": [
    "scuola = \"Epicode\"\n",
    "print(scuola)"
   ]
  },
  {
   "cell_type": "code",
   "execution_count": 13,
   "id": "91b35203-ab06-4566-a7d9-a8fe7be5e3d3",
   "metadata": {},
   "outputs": [
    {
     "name": "stdout",
     "output_type": "stream",
     "text": [
      "12\n",
      "36\n"
     ]
    }
   ],
   "source": [
    "x = 10\n",
    "x_nuovo = x + 2\n",
    "x_tot = x_nuovo * 3\n",
    "print(x_nuovo)\n",
    "print(x_tot)"
   ]
  },
  {
   "cell_type": "code",
   "execution_count": 50,
   "id": "035d27f4-d086-40a5-9d93-a35378b53642",
   "metadata": {},
   "outputs": [
    {
     "name": "stdout",
     "output_type": "stream",
     "text": [
      "True\n",
      "True\n",
      "False\n",
      "False\n"
     ]
    }
   ],
   "source": [
    "str1 = \"Windows\"  \n",
    "str2 = \"Excel\"  \n",
    "str3 = \"Powerpoint\" \n",
    "str4 = \"Word\"\n",
    "numero_caratteri_str1_tra_5_e_8 = 5 <= len(str1) <= 8\n",
    "numero_caratteri_str2_tra_5_e_8 = 5 <= len(str2) <= 8\n",
    "numero_caratteri_str3_tra_5_e_8 = 5 <= len(str3) <= 8\n",
    "numero_caratteri_str4_tra_5_e_8 = 5 <= len(str4) <= 8\n",
    "\n",
    "print(numero_caratteri_str1_tra_5_e_8)\n",
    "print(numero_caratteri_str2_tra_5_e_8)\n",
    "print(numero_caratteri_str3_tra_5_e_8)\n",
    "print(numero_caratteri_str4_tra_5_e_8)\n",
    "\n",
    "\n"
   ]
  },
  {
   "cell_type": "code",
   "execution_count": 1,
   "id": "903b8070-3d05-4880-903a-51a8c03c7299",
   "metadata": {},
   "outputs": [
    {
     "name": "stdout",
     "output_type": "stream",
     "text": [
      "In un anno non bisestile ci sono: 31536000 secondi\n"
     ]
    }
   ],
   "source": [
    "secondi = 60\n",
    "minuti = 60\n",
    "ore = 24\n",
    "gennaio = 31\n",
    "febbraio = 28\n",
    "marzo = 31\n",
    "aprile = 30\n",
    "maggio = 31\n",
    "giugno = 30\n",
    "luglio = 31\n",
    "agosto = 31\n",
    "settembre = 30\n",
    "ottobre = 31\n",
    "novembre = 30\n",
    "dicembre= 31\n",
    "\n",
    "secondi_gennaio= secondi * minuti * ore * gennaio\n",
    "secondi_febbraio = secondi * minuti * ore * febbraio\n",
    "secondi_marzo = secondi * minuti * ore * marzo\n",
    "secondi_aprile = secondi * minuti * ore * aprile\n",
    "secondi_maggio = secondi * minuti * ore * maggio\n",
    "secondi_giugno = secondi * minuti * ore * giugno\n",
    "secondi_luglio = secondi * minuti * ore * luglio\n",
    "secondi_agosto = secondi * minuti * ore * agosto\n",
    "secondi_settembre = secondi * minuti * ore * settembre\n",
    "secondi_ottobre = secondi * minuti * ore * ottobre\n",
    "secondi_novembre = secondi * minuti * ore * novembre\n",
    "secondi_dicembre = secondi * minuti * ore * dicembre\n",
    "\n",
    "secondi_anno_non_bisestile = secondi_gennaio+secondi_febbraio+secondi_marzo+secondi_aprile+secondi_maggio+secondi_giugno+secondi_luglio+secondi_agosto+secondi_settembre+secondi_ottobre+secondi_novembre+secondi_dicembre\n",
    "print(\"In un anno non bisestile ci sono:\", secondi_anno_non_bisestile,\"secondi\")\n",
    "#l'esercizio risolto è quello in basso, questo l'ho provato per allenarmi con l'identificazione delle variabili,\n",
    "#il riusltato è sempre giusto ma il tutto è piu' meccanico \n"
   ]
  },
  {
   "cell_type": "code",
   "execution_count": 6,
   "id": "e3fa2192-5418-4f9f-b6f4-602af33c9c64",
   "metadata": {},
   "outputs": [
    {
     "name": "stdout",
     "output_type": "stream",
     "text": [
      "In un anno non bisestile ci sono: 31536000 secondi\n"
     ]
    }
   ],
   "source": [
    "secondi_anno_non_bisestile = 60*60*24*365\n",
    "print(\"In un anno non bisestile ci sono:\",secondi_anno_non_bisestile, \"secondi\")"
   ]
  },
  {
   "cell_type": "code",
   "execution_count": 8,
   "id": "c17006f4-d796-40de-8c94-4cee4353b681",
   "metadata": {},
   "outputs": [
    {
     "name": "stdout",
     "output_type": "stream",
     "text": [
      "I AM STUDYNG PYTHON\n",
      "i am studyng python\n",
      "I am studyng a lot\n"
     ]
    }
   ],
   "source": [
    "my_string = \"I am studyng Python\"\n",
    "print(str.upper(my_string))\n",
    "print(str.lower(my_string))\n",
    "print(str.replace(my_string, \"Python\", \"a lot\"))\n",
    "#print(str.strip(my_string) non cambia nulla perchè non ci sono spazi nè all'inizio nè alla fine "
   ]
  },
  {
   "cell_type": "code",
   "execution_count": null,
   "id": "bd7d4e64-11cf-419d-a4d9-37d7b5287f6e",
   "metadata": {},
   "outputs": [],
   "source": []
  }
 ],
 "metadata": {
  "kernelspec": {
   "display_name": "Python [conda env:base] *",
   "language": "python",
   "name": "conda-base-py"
  },
  "language_info": {
   "codemirror_mode": {
    "name": "ipython",
    "version": 3
   },
   "file_extension": ".py",
   "mimetype": "text/x-python",
   "name": "python",
   "nbconvert_exporter": "python",
   "pygments_lexer": "ipython3",
   "version": "3.12.7"
  }
 },
 "nbformat": 4,
 "nbformat_minor": 5
}
